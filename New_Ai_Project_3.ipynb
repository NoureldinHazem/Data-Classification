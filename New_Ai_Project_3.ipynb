{
  "nbformat": 4,
  "nbformat_minor": 0,
  "metadata": {
    "colab": {
      "name": "New - Ai - Project 3.ipynb",
      "provenance": []
    },
    "kernelspec": {
      "name": "python3",
      "display_name": "Python 3"
    },
    "language_info": {
      "name": "python"
    }
  },
  "cells": [
    {
      "cell_type": "markdown",
      "source": [
        "# Imports"
      ],
      "metadata": {
        "id": "tEoNkJDnnqvW"
      }
    },
    {
      "cell_type": "code",
      "execution_count": null,
      "metadata": {
        "id": "sJMS4OuPUET3"
      },
      "outputs": [],
      "source": [
        "# Code to read file into Colaboratory:\n",
        "! pip install -U -q PyDrive\n",
        "from pydrive.auth import GoogleAuth\n",
        "from pydrive.drive import GoogleDrive\n",
        "from google.colab import auth\n",
        "from oauth2client.client import GoogleCredentials\n",
        "# Authenticate and create the PyDrive client.\n",
        "auth.authenticate_user()\n",
        "gauth = GoogleAuth()\n",
        "gauth.credentials = GoogleCredentials.get_application_default()\n",
        "drive = GoogleDrive(gauth)"
      ]
    },
    {
      "cell_type": "code",
      "source": [
        "import pandas as pd\n",
        "import numpy as np\n",
        "import io\n",
        "from imblearn.under_sampling import RandomUnderSampler\n",
        "from sklearn.model_selection import train_test_split\n",
        "from sklearn.model_selection import KFold\n",
        "import torch \n",
        "import torch.nn.functional as F\n",
        "from torch import flatten\n",
        "from sklearn.metrics import classification_report, accuracy_score\n",
        "from torch.utils.data import DataLoader\n",
        "from torch.optim import Adam, SGD\n",
        "from torch import nn\n",
        "import time\n",
        "from torch.utils.data import Dataset\n",
        "from torchvision import datasets\n",
        "from torchvision.transforms import ToTensor\n",
        "import math\n",
        "import plotly.graph_objects as go\n",
        "from plotly.subplots import make_subplots"
      ],
      "metadata": {
        "id": "2ObRz6YfU3Tt"
      },
      "execution_count": null,
      "outputs": []
    },
    {
      "cell_type": "markdown",
      "source": [
        "# Reading Data"
      ],
      "metadata": {
        "id": "2RFW8jtynm5w"
      }
    },
    {
      "cell_type": "code",
      "source": [
        "link = 'https://drive.google.com/file/d/1RqBOAVQyZOQLPBN6eNDbBOWLDNIB_LR6/view?usp=sharing' # The shareable link\n",
        "# to get the id part of the file\n",
        "id = link.split(\"/\")[-2]\n",
        "downloaded = drive.CreateFile({'id':id})\n",
        "downloaded.GetContentFile('magic04.data')"
      ],
      "metadata": {
        "id": "UDg55emnUpX2"
      },
      "execution_count": null,
      "outputs": []
    },
    {
      "cell_type": "code",
      "source": [
        "dataframe = pd.read_csv('magic04.data')"
      ],
      "metadata": {
        "id": "tCrUGDGrUyMG"
      },
      "execution_count": null,
      "outputs": []
    },
    {
      "cell_type": "markdown",
      "source": [
        "# Splitting Data"
      ],
      "metadata": {
        "id": "tLf4j_chn0Pj"
      }
    },
    {
      "cell_type": "code",
      "source": [
        "data, labels = dataframe.iloc[:, :-1], dataframe.iloc[:, -1]\n",
        "rus = RandomUnderSampler()\n",
        "data_res, labels_res = rus.fit_resample(data, labels)\n",
        "data_res, labels_res = np.array(data_res), np.array(labels_res)\n",
        "x_train, x_test, y_train, y_test = train_test_split(data_res, labels_res, shuffle = True, test_size=0.3, stratify=labels_res)"
      ],
      "metadata": {
        "id": "i0bpkYIHVn79"
      },
      "execution_count": null,
      "outputs": []
    },
    {
      "cell_type": "code",
      "source": [
        "print(np.array(x_train).shape)"
      ],
      "metadata": {
        "colab": {
          "base_uri": "https://localhost:8080/"
        },
        "id": "QZ4LOu0L0pFe",
        "outputId": "56a247ae-1758-4ebf-aadc-6337e8de49cd"
      },
      "execution_count": null,
      "outputs": [
        {
          "output_type": "stream",
          "name": "stdout",
          "text": [
            "(9363, 10)\n"
          ]
        }
      ]
    },
    {
      "cell_type": "code",
      "source": [
        "print(np.unique(y_test, return_counts=True))"
      ],
      "metadata": {
        "id": "fMToqtjEnOlT",
        "colab": {
          "base_uri": "https://localhost:8080/"
        },
        "outputId": "08f583c6-6d80-4446-ca40-a4b14d03946f"
      },
      "execution_count": null,
      "outputs": [
        {
          "output_type": "stream",
          "name": "stdout",
          "text": [
            "(array(['g', 'h'], dtype=object), array([2006, 2007]))\n"
          ]
        }
      ]
    },
    {
      "cell_type": "markdown",
      "source": [
        "# Plotting Code"
      ],
      "metadata": {
        "id": "b2hIuUr-n_72"
      }
    },
    {
      "cell_type": "code",
      "source": [
        "import matplotlib.pyplot as plt\n",
        "from mpl_toolkits.mplot3d import Axes3D\n",
        "def plotting(output1,output2,accuracy): \n",
        "  fig = plt.figure()\n",
        "  \n",
        "  ax = fig.add_subplot(111, projection='3d')\n",
        "  \n",
        "  \n",
        "  # plotting\n",
        "  ax.scatter(output1, output2, accuracy)\n",
        "  ax.set_title('Accuracy plot')\n",
        "  plt.show()"
      ],
      "metadata": {
        "id": "Z06kA-eELOPS"
      },
      "execution_count": null,
      "outputs": []
    },
    {
      "cell_type": "markdown",
      "source": [
        "# Data Class"
      ],
      "metadata": {
        "id": "W9SIiUpNoI2K"
      }
    },
    {
      "cell_type": "code",
      "source": [
        "class MagicDataset(Dataset):\n",
        "    def __init__(self, data, labels):\n",
        "        self.labels = labels\n",
        "        self.data = data\n",
        "        self.dict_labels = {'g': 0, 'h': 1}\n",
        "\n",
        "    def __len__(self):\n",
        "        return len(self.labels)\n",
        "\n",
        "    def __getitem__(self, index):\n",
        "        data = torch.tensor(self.data[index])\n",
        "        label = self.labels[index]\n",
        "        return data, torch.tensor(self.dict_labels[label])"
      ],
      "metadata": {
        "id": "_GMUt5FXXF1f"
      },
      "execution_count": null,
      "outputs": []
    },
    {
      "cell_type": "markdown",
      "source": [
        "# Model Class"
      ],
      "metadata": {
        "id": "4x_R4Hg3oMXh"
      }
    },
    {
      "cell_type": "code",
      "source": [
        "class TestModel(nn.Module):\n",
        "    def __init__(self, output1, output2):\n",
        "        super(TestModel, self).__init__()\n",
        "        self.fc1 = nn.Linear(10, output1)\n",
        "        self.fc2 = nn.Linear(output1, output2)\n",
        "        self.fc3 = nn.Linear(output2, 1)\n",
        "\n",
        "    def forward(self, x):\n",
        "        x = F.relu(self.fc1(x))\n",
        "        x = F.relu(self.fc2(x))\n",
        "        x = self.fc3(x)\n",
        "        return torch.sigmoid(x)"
      ],
      "metadata": {
        "id": "l6CiFYeTXRwi"
      },
      "execution_count": null,
      "outputs": []
    },
    {
      "cell_type": "markdown",
      "source": [
        "# Running Function"
      ],
      "metadata": {
        "id": "ttkmhbAmoSK7"
      }
    },
    {
      "cell_type": "code",
      "source": [
        "def tvt(optimizer, mode, model, dataloader):\n",
        "  if mode == 'train':\n",
        "    model.train()\n",
        "    numberOfBatches = trainSteps\n",
        "  totalLoss = 0\n",
        "  correctPred = 0\n",
        "  preds = []\n",
        "  batchNumber = 1\n",
        "  lossFn = nn.BCELoss()\n",
        "  for (data, labels) in dataloader:\n",
        "        data = data.float()\n",
        "        pred = model(data)\n",
        "        pred = pred.squeeze(1)\n",
        "        temp = pred.detach().cpu().numpy().copy()\n",
        "        for i in range(len(pred)):\n",
        "          temp[i] = 0. if temp[i] <= 0.5 else 1.\n",
        "        loss = lossFn(pred, labels.float())\n",
        "        totalLoss += loss\n",
        "        compare = [1 if i==j else 0 for i, j in zip(temp,labels)]\n",
        "        correctPred += np.array(compare).sum()\n",
        "        if mode == 'train':\n",
        "          optimizer.zero_grad() \n",
        "          loss.backward()  \n",
        "          optimizer.step()\n",
        "        preds.extend(np.array(compare))\n",
        "        batchNumber += 1\n",
        "  return totalLoss/len(dataloader), correctPred, preds"
      ],
      "metadata": {
        "id": "O6RyWkpJW62p"
      },
      "execution_count": null,
      "outputs": []
    },
    {
      "cell_type": "markdown",
      "source": [
        "# Classifier"
      ],
      "metadata": {
        "id": "as61CSwprS1K"
      }
    },
    {
      "cell_type": "code",
      "source": [
        "def Classifier(x_train, y_train, x_val, y_val, hyp):\n",
        "  training_data = MagicDataset(x_train, y_train)\n",
        "  testing_data = MagicDataset(x_test, y_test)\n",
        "\n",
        "  trainDataLoader = DataLoader(training_data, shuffle=True, batch_size=hyp[1])\n",
        "  testDataLoader = DataLoader(testing_data, batch_size=hyp[1])\n",
        "  trainSteps = len(trainDataLoader.dataset) // hyp[1]\n",
        "\n",
        "  model = TestModel(hyp[3], hyp[4])\n",
        "  opt = Adam(model.parameters(), lr=hyp[0])\n",
        "\n",
        "  for e in range(hyp[2]):\n",
        "    tvt(opt, 'train', model, trainDataLoader)\n",
        "    \n",
        "  _,  _, preds = tvt(opt, 'test', model, testDataLoader)\n",
        "  enumLabels = []\n",
        "  for label in testing_data.labels:\n",
        "      enumLabels.append(testing_data.dict_labels[label])\n",
        "\n",
        "  return accuracy_score(enumLabels, preds)"
      ],
      "metadata": {
        "id": "Jd-l8SABjmvq"
      },
      "execution_count": null,
      "outputs": []
    },
    {
      "cell_type": "markdown",
      "source": [
        "# Cross Validator"
      ],
      "metadata": {
        "id": "DevHCLKorVGG"
      }
    },
    {
      "cell_type": "code",
      "source": [
        "def CrossValidate(x_train, y_train, hyp):\n",
        "  k = 5\n",
        "  kf = KFold(n_splits=5)\n",
        "  kf.get_n_splits(x_train)\n",
        "  acc = 0\n",
        "  for train_index, test_index in kf.split(x_train):\n",
        "      KFX_train, KFX_test = x_train[train_index], x_train[test_index]\n",
        "      KFy_train, KFy_test = y_train[train_index], y_train[test_index]\n",
        "      acc += Classifier(KFX_train, KFy_train, KFX_test,  KFy_test, hyp)\n",
        "  return acc/k"
      ],
      "metadata": {
        "id": "YtSHMBkzW9Ck"
      },
      "execution_count": null,
      "outputs": []
    },
    {
      "cell_type": "markdown",
      "source": [
        "# HyperParameters"
      ],
      "metadata": {
        "id": "kFNWCjQpok3l"
      }
    },
    {
      "cell_type": "code",
      "source": [
        "INIT_LR = 1e-5\n",
        "BATCH_SIZE = 9363\n",
        "EPOCHS = 20"
      ],
      "metadata": {
        "id": "1G_ntU2fooxK"
      },
      "execution_count": null,
      "outputs": []
    },
    {
      "cell_type": "markdown",
      "source": [
        "# Cross Validate"
      ],
      "metadata": {
        "id": "4qrhyKyEvk9R"
      }
    },
    {
      "cell_type": "code",
      "source": [
        "from google.colab import drive\n",
        "drive.mount('/content/gdrive')"
      ],
      "metadata": {
        "colab": {
          "base_uri": "https://localhost:8080/"
        },
        "id": "I0EOdBI24OO1",
        "outputId": "40efac79-ccb2-41e2-f7bc-aab094b936c5"
      },
      "execution_count": null,
      "outputs": [
        {
          "output_type": "stream",
          "name": "stdout",
          "text": [
            "Mounted at /content/gdrive\n"
          ]
        }
      ]
    },
    {
      "cell_type": "code",
      "source": [
        "ValAccuracies = []\n",
        "for i in range(8, 64, 4):\n",
        "  for j in range(8, 64, 4):\n",
        "    hyperparameters = [INIT_LR, BATCH_SIZE, EPOCHS, i, j]\n",
        "    ValAccuracies.append([i, j, CrossValidate(x_train, y_train, hyperparameters)])"
      ],
      "metadata": {
        "id": "istzQCaq1wbZ"
      },
      "execution_count": null,
      "outputs": []
    },
    {
      "cell_type": "code",
      "source": [
        "PATH = \"/content/gdrive/MyDrive/Project 3/ValAccuracies.npy\"\n",
        "np.save(PATH, np.array(ValAccuracies))"
      ],
      "metadata": {
        "id": "e0Ccaq6ZEsox"
      },
      "execution_count": null,
      "outputs": []
    },
    {
      "cell_type": "code",
      "source": [
        "from google.colab import drive\n",
        "drive.mount('/content/drive')"
      ],
      "metadata": {
        "colab": {
          "base_uri": "https://localhost:8080/"
        },
        "id": "3cOuFumC89In",
        "outputId": "c78ae134-af72-4295-8c78-a6333cbb48cd"
      },
      "execution_count": null,
      "outputs": [
        {
          "output_type": "stream",
          "name": "stdout",
          "text": [
            "Mounted at /content/drive\n"
          ]
        }
      ]
    },
    {
      "cell_type": "code",
      "source": [
        "Validations_accuracies=np.load(\"/content/drive/MyDrive/Project 3/ValAccuracies.npy\")"
      ],
      "metadata": {
        "id": "2qKlq4Fv8bVF"
      },
      "execution_count": null,
      "outputs": []
    },
    {
      "cell_type": "code",
      "source": [
        "plotting(Validations_accuracies[:,0],Validations_accuracies[:,1],Validations_accuracies[:,2])"
      ],
      "metadata": {
        "colab": {
          "base_uri": "https://localhost:8080/",
          "height": 248
        },
        "id": "r1QXuzPCUIrb",
        "outputId": "43b69627-cc3d-43a5-afe6-876d543b838a"
      },
      "execution_count": null,
      "outputs": [
        {
          "output_type": "display_data",
          "data": {
            "text/plain": [
              "<Figure size 432x288 with 1 Axes>"
            ],
            "image/png": "[encoded data removed]"
          },
          "metadata": {
            "needs_background": "light"
          }
        }
      ]
    },
    {
      "cell_type": "code",
      "source": [
        "V_Accuracies=Validations_accuracies[:,2]"
      ],
      "metadata": {
        "id": "-k_Gfi629aKh"
      },
      "execution_count": null,
      "outputs": []
    },
    {
      "cell_type": "code",
      "source": [
        "max_index =V_Accuracies.argmax()\n",
        "max_=Validations_accuracies[max_index]\n",
        "print(max_)"
      ],
      "metadata": {
        "colab": {
          "base_uri": "https://localhost:8080/"
        },
        "id": "Qqtvv2fZDzso",
        "outputId": "968a8c59-4a59-432b-e42b-5dbcd91cf5e2"
      },
      "execution_count": null,
      "outputs": [
        {
          "output_type": "stream",
          "name": "stdout",
          "text": [
            "[16.         20.          0.97258909]\n"
          ]
        }
      ]
    },
    {
      "cell_type": "code",
      "source": [
        "ValAccuracies1 = []\n",
        "for i in range(14,18,1):\n",
        "  for j in range(18,22,1):\n",
        "    hyperparameters = [INIT_LR, BATCH_SIZE, EPOCHS, i, j]\n",
        "    ValAccuracies1.append([i, j, CrossValidate(x_train, y_train, hyperparameters)])"
      ],
      "metadata": {
        "id": "FfqpntLMEQ4i"
      },
      "execution_count": null,
      "outputs": []
    },
    {
      "cell_type": "code",
      "source": [
        "PATH = \"/content/gdrive/MyDrive/Project 3/ValAccuracies1.npy\"\n",
        "np.save(PATH, np.array(ValAccuracies1))"
      ],
      "metadata": {
        "id": "mHUpC26TOXJC"
      },
      "execution_count": null,
      "outputs": []
    },
    {
      "cell_type": "code",
      "source": [
        "Validations_accuracies1=np.load(\"/content/gdrive/MyDrive/Project 3/ValAccuracies1.npy\")"
      ],
      "metadata": {
        "id": "huzazx9nOfdY"
      },
      "execution_count": null,
      "outputs": []
    },
    {
      "cell_type": "code",
      "source": [
        "plotting(Validations_accuracies1[:,0],Validations_accuracies1[:,1],Validations_accuracies1[:,2])"
      ],
      "metadata": {
        "colab": {
          "base_uri": "https://localhost:8080/",
          "height": 248
        },
        "id": "vhuC_ohbXmNL",
        "outputId": "6ada2851-dda0-4a5a-892d-a5e031be808e"
      },
      "execution_count": null,
      "outputs": [
        {
          "output_type": "display_data",
          "data": {
            "text/plain": [
              "<Figure size 432x288 with 1 Axes>"
            ],
            "image/png": "[encoded data removed]"
          },
          "metadata": {
            "needs_background": "light"
          }
        }
      ]
    },
    {
      "cell_type": "code",
      "source": [
        "V_Accuracies1=Validations_accuracies1[:,2]"
      ],
      "metadata": {
        "id": "U2CuMQ_nOn3G"
      },
      "execution_count": null,
      "outputs": []
    },
    {
      "cell_type": "code",
      "source": [
        "max_index1 =V_Accuracies1.argmax()\n",
        "max_1=Validations_accuracies1[max_index1]\n",
        "print(max_1)"
      ],
      "metadata": {
        "colab": {
          "base_uri": "https://localhost:8080/"
        },
        "id": "p7TyqfFaOuST",
        "outputId": "0d1bb885-838d-44a8-b9cb-287f5ded00b0"
      },
      "execution_count": null,
      "outputs": [
        {
          "output_type": "stream",
          "name": "stdout",
          "text": [
            "[15.         18.          0.78460005]\n"
          ]
        }
      ]
    },
    {
      "cell_type": "code",
      "source": [
        "training_data = MagicDataset(x_train, y_train)\n",
        "testing_data = MagicDataset(x_test, y_test)"
      ],
      "metadata": {
        "id": "lce-mEsRXyE_"
      },
      "execution_count": null,
      "outputs": []
    },
    {
      "cell_type": "code",
      "source": [
        "INIT_LR = 1e-5\n",
        "BATCH_SIZE = 1024\n",
        "EPOCHS = 100\n",
        "output1 = int(max_1[0])\n",
        "output2 = int(max_1[1])"
      ],
      "metadata": {
        "id": "If-I3RYRruAV"
      },
      "execution_count": null,
      "outputs": []
    },
    {
      "cell_type": "code",
      "source": [
        "trainDataLoader = DataLoader(training_data, shuffle=True, batch_size=BATCH_SIZE)\n",
        "testDataLoader = DataLoader(testing_data, batch_size=BATCH_SIZE)\n",
        "trainSteps = len(trainDataLoader.dataset) // BATCH_SIZE"
      ],
      "metadata": {
        "id": "L5GzAhrgYJsX"
      },
      "execution_count": null,
      "outputs": []
    },
    {
      "cell_type": "code",
      "source": [
        "model = TestModel(output1, output1)\n",
        "opt = SGD(model.parameters(), lr=INIT_LR)\n",
        "trainLoss,trainAcc, validationLoss, validationAcc = [], [], [], []\n",
        "print(\"Training Model\")\n",
        "for e in range(EPOCHS):\n",
        "  print('Epoch {0}/{1}'.format(e+1,EPOCHS))\n",
        "  avgTrainLoss, correctPred, _ = tvt(opt, 'train', model, trainDataLoader)\n",
        "  print(\"Train loss: {:.6f}, Train accuracy: {:.4f}\".format(avgTrainLoss, correctPred/len(trainDataLoader.dataset)))\n",
        "  trainLoss.append(avgTrainLoss.item())\n",
        "  trainAcc.append(correctPred/len(trainDataLoader.dataset)*100)\n",
        "print('\\nTesting:')\n",
        "_,  _, preds = tvt(opt, 'test', model, testDataLoader)\n",
        "enumLabels = []\n",
        "for label in testing_data.labels:\n",
        "    enumLabels.append(testing_data.dict_labels[label])\n",
        "print(f\"MODEL {output1} X {output1}\")\n",
        "print(classification_report(np.array(enumLabels), np.array(preds)))\n",
        "accuracy = accuracy_score(enumLabels, preds)\n",
        "print('Accuracy = {0} '.format(accuracy*100))"
      ],
      "metadata": {
        "id": "YTmVWhHOo5E3",
        "colab": {
          "base_uri": "https://localhost:8080/"
        },
        "outputId": "01a2f530-3d07-4f6a-f5e3-50117ff527e6"
      },
      "execution_count": null,
      "outputs": [
        {
          "output_type": "stream",
          "name": "stdout",
          "text": [
            "Training Model\n",
            "Epoch 1/100\n",
            "Train loss: 2.507279, Train accuracy: 0.4933\n",
            "Epoch 2/100\n",
            "Train loss: 1.068700, Train accuracy: 0.4959\n",
            "Epoch 3/100\n",
            "Train loss: 0.946201, Train accuracy: 0.5450\n",
            "Epoch 4/100\n",
            "Train loss: 0.899748, Train accuracy: 0.5567\n",
            "Epoch 5/100\n",
            "Train loss: 0.864595, Train accuracy: 0.5606\n",
            "Epoch 6/100\n",
            "Train loss: 0.838342, Train accuracy: 0.5602\n",
            "Epoch 7/100\n",
            "Train loss: 0.817165, Train accuracy: 0.5638\n",
            "Epoch 8/100\n",
            "Train loss: 0.799752, Train accuracy: 0.5632\n",
            "Epoch 9/100\n",
            "Train loss: 0.784162, Train accuracy: 0.5645\n",
            "Epoch 10/100\n",
            "Train loss: 0.770979, Train accuracy: 0.5670\n",
            "Epoch 11/100\n",
            "Train loss: 0.757422, Train accuracy: 0.5685\n",
            "Epoch 12/100\n",
            "Train loss: 0.746009, Train accuracy: 0.5723\n",
            "Epoch 13/100\n",
            "Train loss: 0.735457, Train accuracy: 0.5746\n",
            "Epoch 14/100\n",
            "Train loss: 0.724917, Train accuracy: 0.5768\n",
            "Epoch 15/100\n",
            "Train loss: 0.715763, Train accuracy: 0.5793\n",
            "Epoch 16/100\n",
            "Train loss: 0.706699, Train accuracy: 0.5838\n",
            "Epoch 17/100\n",
            "Train loss: 0.698633, Train accuracy: 0.5874\n",
            "Epoch 18/100\n",
            "Train loss: 0.690768, Train accuracy: 0.5907\n",
            "Epoch 19/100\n",
            "Train loss: 0.683725, Train accuracy: 0.5953\n",
            "Epoch 20/100\n",
            "Train loss: 0.676852, Train accuracy: 0.5986\n",
            "Epoch 21/100\n",
            "Train loss: 0.670735, Train accuracy: 0.6021\n",
            "Epoch 22/100\n",
            "Train loss: 0.664328, Train accuracy: 0.6029\n",
            "Epoch 23/100\n",
            "Train loss: 0.658298, Train accuracy: 0.6047\n",
            "Epoch 24/100\n",
            "Train loss: 0.653437, Train accuracy: 0.6077\n",
            "Epoch 25/100\n",
            "Train loss: 0.647976, Train accuracy: 0.6105\n",
            "Epoch 26/100\n",
            "Train loss: 0.643252, Train accuracy: 0.6135\n",
            "Epoch 27/100\n",
            "Train loss: 0.638610, Train accuracy: 0.6171\n",
            "Epoch 28/100\n",
            "Train loss: 0.634765, Train accuracy: 0.6189\n",
            "Epoch 29/100\n",
            "Train loss: 0.630510, Train accuracy: 0.6235\n",
            "Epoch 30/100\n",
            "Train loss: 0.626654, Train accuracy: 0.6263\n",
            "Epoch 31/100\n",
            "Train loss: 0.622999, Train accuracy: 0.6322\n",
            "Epoch 32/100\n",
            "Train loss: 0.619084, Train accuracy: 0.6329\n",
            "Epoch 33/100\n",
            "Train loss: 0.615756, Train accuracy: 0.6360\n",
            "Epoch 34/100\n",
            "Train loss: 0.612309, Train accuracy: 0.6387\n",
            "Epoch 35/100\n",
            "Train loss: 0.609254, Train accuracy: 0.6411\n",
            "Epoch 36/100\n",
            "Train loss: 0.606076, Train accuracy: 0.6450\n",
            "Epoch 37/100\n",
            "Train loss: 0.603551, Train accuracy: 0.6470\n",
            "Epoch 38/100\n",
            "Train loss: 0.600251, Train accuracy: 0.6502\n",
            "Epoch 39/100\n",
            "Train loss: 0.597452, Train accuracy: 0.6515\n",
            "Epoch 40/100\n",
            "Train loss: 0.595055, Train accuracy: 0.6576\n",
            "Epoch 41/100\n",
            "Train loss: 0.592398, Train accuracy: 0.6609\n",
            "Epoch 42/100\n",
            "Train loss: 0.590093, Train accuracy: 0.6612\n",
            "Epoch 43/100\n",
            "Train loss: 0.588027, Train accuracy: 0.6668\n",
            "Epoch 44/100\n",
            "Train loss: 0.586259, Train accuracy: 0.6672\n",
            "Epoch 45/100\n",
            "Train loss: 0.584453, Train accuracy: 0.6686\n",
            "Epoch 46/100\n",
            "Train loss: 0.582673, Train accuracy: 0.6710\n",
            "Epoch 47/100\n",
            "Train loss: 0.581018, Train accuracy: 0.6723\n",
            "Epoch 48/100\n",
            "Train loss: 0.579093, Train accuracy: 0.6764\n",
            "Epoch 49/100\n",
            "Train loss: 0.577809, Train accuracy: 0.6773\n",
            "Epoch 50/100\n",
            "Train loss: 0.576480, Train accuracy: 0.6792\n",
            "Epoch 51/100\n",
            "Train loss: 0.575084, Train accuracy: 0.6811\n",
            "Epoch 52/100\n",
            "Train loss: 0.573611, Train accuracy: 0.6830\n",
            "Epoch 53/100\n",
            "Train loss: 0.572544, Train accuracy: 0.6845\n",
            "Epoch 54/100\n",
            "Train loss: 0.571237, Train accuracy: 0.6878\n",
            "Epoch 55/100\n",
            "Train loss: 0.570497, Train accuracy: 0.6874\n",
            "Epoch 56/100\n",
            "Train loss: 0.569545, Train accuracy: 0.6890\n",
            "Epoch 57/100\n",
            "Train loss: 0.568547, Train accuracy: 0.6913\n",
            "Epoch 58/100\n",
            "Train loss: 0.567385, Train accuracy: 0.6917\n",
            "Epoch 59/100\n",
            "Train loss: 0.566900, Train accuracy: 0.6928\n",
            "Epoch 60/100\n",
            "Train loss: 0.566101, Train accuracy: 0.6934\n",
            "Epoch 61/100\n",
            "Train loss: 0.565235, Train accuracy: 0.6942\n",
            "Epoch 62/100\n",
            "Train loss: 0.564286, Train accuracy: 0.6946\n",
            "Epoch 63/100\n",
            "Train loss: 0.563621, Train accuracy: 0.6960\n",
            "Epoch 64/100\n",
            "Train loss: 0.563194, Train accuracy: 0.6967\n",
            "Epoch 65/100\n",
            "Train loss: 0.562305, Train accuracy: 0.6960\n",
            "Epoch 66/100\n",
            "Train loss: 0.561744, Train accuracy: 0.6979\n",
            "Epoch 67/100\n",
            "Train loss: 0.561167, Train accuracy: 0.6999\n",
            "Epoch 68/100\n",
            "Train loss: 0.560701, Train accuracy: 0.6981\n",
            "Epoch 69/100\n",
            "Train loss: 0.560285, Train accuracy: 0.6993\n",
            "Epoch 70/100\n",
            "Train loss: 0.559825, Train accuracy: 0.7002\n",
            "Epoch 71/100\n",
            "Train loss: 0.559298, Train accuracy: 0.7006\n",
            "Epoch 72/100\n",
            "Train loss: 0.559255, Train accuracy: 0.7008\n",
            "Epoch 73/100\n",
            "Train loss: 0.558804, Train accuracy: 0.7020\n",
            "Epoch 74/100\n",
            "Train loss: 0.558034, Train accuracy: 0.7024\n",
            "Epoch 75/100\n",
            "Train loss: 0.557638, Train accuracy: 0.7027\n",
            "Epoch 76/100\n",
            "Train loss: 0.557358, Train accuracy: 0.7037\n",
            "Epoch 77/100\n",
            "Train loss: 0.556904, Train accuracy: 0.7056\n",
            "Epoch 78/100\n",
            "Train loss: 0.556411, Train accuracy: 0.7046\n",
            "Epoch 79/100\n",
            "Train loss: 0.556037, Train accuracy: 0.7049\n",
            "Epoch 80/100\n",
            "Train loss: 0.555984, Train accuracy: 0.7060\n",
            "Epoch 81/100\n",
            "Train loss: 0.555480, Train accuracy: 0.7065\n",
            "Epoch 82/100\n",
            "Train loss: 0.555017, Train accuracy: 0.7062\n",
            "Epoch 83/100\n",
            "Train loss: 0.554727, Train accuracy: 0.7084\n",
            "Epoch 84/100\n",
            "Train loss: 0.554439, Train accuracy: 0.7075\n",
            "Epoch 85/100\n",
            "Train loss: 0.553954, Train accuracy: 0.7080\n",
            "Epoch 86/100\n",
            "Train loss: 0.553808, Train accuracy: 0.7076\n",
            "Epoch 87/100\n",
            "Train loss: 0.553549, Train accuracy: 0.7083\n",
            "Epoch 88/100\n",
            "Train loss: 0.553259, Train accuracy: 0.7094\n",
            "Epoch 89/100\n",
            "Train loss: 0.553093, Train accuracy: 0.7098\n",
            "Epoch 90/100\n",
            "Train loss: 0.552698, Train accuracy: 0.7094\n",
            "Epoch 91/100\n",
            "Train loss: 0.552422, Train accuracy: 0.7093\n",
            "Epoch 92/100\n",
            "Train loss: 0.552224, Train accuracy: 0.7105\n",
            "Epoch 93/100\n",
            "Train loss: 0.551654, Train accuracy: 0.7112\n",
            "Epoch 94/100\n",
            "Train loss: 0.551344, Train accuracy: 0.7118\n",
            "Epoch 95/100\n",
            "Train loss: 0.551347, Train accuracy: 0.7108\n",
            "Epoch 96/100\n",
            "Train loss: 0.551014, Train accuracy: 0.7110\n",
            "Epoch 97/100\n",
            "Train loss: 0.550693, Train accuracy: 0.7123\n",
            "Epoch 98/100\n",
            "Train loss: 0.550377, Train accuracy: 0.7121\n",
            "Epoch 99/100\n",
            "Train loss: 0.549968, Train accuracy: 0.7115\n",
            "Epoch 100/100\n",
            "Train loss: 0.549899, Train accuracy: 0.7126\n",
            "\n",
            "Testing:\n",
            "MODEL 15 X 15\n",
            "              precision    recall  f1-score   support\n",
            "\n",
            "           0       0.57      0.32      0.41      2006\n",
            "           1       0.53      0.75      0.62      2007\n",
            "\n",
            "    accuracy                           0.54      4013\n",
            "   macro avg       0.55      0.54      0.52      4013\n",
            "weighted avg       0.55      0.54      0.52      4013\n",
            "\n",
            "Accuracy = 53.800149514079244 \n"
          ]
        }
      ]
    }
  ]
}